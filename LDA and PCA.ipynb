{
 "cells": [
  {
   "cell_type": "code",
   "execution_count": 1,
   "metadata": {
    "collapsed": true
   },
   "outputs": [],
   "source": [
    "#=========================\n",
    "#GROUP MEMBERS: SUNNY MEI & MIGUEL DOMINGUEZ\n",
    "# CSC 59970\n",
    "# Data Science\n",
    "# Prof. Etemadpour\n",
    "# Date: 10/03/17\n",
    "# Assigment #3\n",
    "#========================="
   ]
  },
  {
   "cell_type": "code",
   "execution_count": 2,
   "metadata": {
    "collapsed": true
   },
   "outputs": [],
   "source": [
    "import numpy as np\n",
    "import pandas as pd\n",
    "import matplotlib.pyplot as plt \n",
    "from matplotlib.colors import ListedColormap"
   ]
  },
  {
   "cell_type": "code",
   "execution_count": 41,
   "metadata": {},
   "outputs": [
    {
     "data": {
      "text/plain": [
       "(407, 9)"
      ]
     },
     "execution_count": 41,
     "metadata": {},
     "output_type": "execute_result"
    }
   ],
   "source": [
    "#Get cars dataframe\n",
    "cars = pd.read_csv('cars.csv',sep= ';') \n",
    "cars.head()\n",
    "cars.shape\n"
   ]
  },
  {
   "cell_type": "code",
   "execution_count": 42,
   "metadata": {},
   "outputs": [
    {
     "data": {
      "text/plain": [
       "Toyota Corolla                9\n",
       "Ford Pinto                    6\n",
       "Volkswagen Rabbit             5\n",
       "AMC Matador                   5\n",
       "Ford Maverick                 5\n",
       "Chevrolet Chevette            4\n",
       "Peugeot 504                   4\n",
       "AMC Hornet                    4\n",
       "AMC Gremlin                   4\n",
       "Chevrolet Impala              4\n",
       "Ford Gran Torino              3\n",
       "Dodge Colt                    3\n",
       "Chevrolet Caprice Classic     3\n",
       "Chevrolet Nova                3\n",
       "Chevrolet Citation            3\n",
       "Plymouth Duster               3\n",
       "Honda Civic                   3\n",
       "Ford Galaxie 500              3\n",
       "Chevrolet Vega                3\n",
       "Pontiac Catalina              3\n",
       "Volkswagen Dasher             3\n",
       "Ford LTD                      2\n",
       "Opel Manta                    2\n",
       "Honda Civic CVCC              2\n",
       "Mazda GLC Deluxe              2\n",
       "Subaru DL                     2\n",
       "Audi 100LS                    2\n",
       "Plymouth Valiant              2\n",
       "Fiat 128                      2\n",
       "Ford Gran Torino (sw)         2\n",
       "                             ..\n",
       "Honda Civic (auto)            1\n",
       "Datsun B-210                  1\n",
       "Dodge Aries SE                1\n",
       "Oldsmobile Delta 88 Royale    1\n",
       "Mazda GLC 4                   1\n",
       "Chevy C20                     1\n",
       "Mercury Zephyr                1\n",
       "Chevrolete Chevelle Malibu    1\n",
       "AMC Hornet Sportabout (sw)    1\n",
       "Mercury Marquis Brougham      1\n",
       "Fiat 131                      1\n",
       "Ford Torino (sw)              1\n",
       "Saab 900s                     1\n",
       "Buick Skylark Limited         1\n",
       "Pontiac Safari (sw)           1\n",
       "Dodge Omni                    1\n",
       "Dodge Colt Hardtop            1\n",
       "Ford Mustang Boss 302         1\n",
       "Pontiac Firebird              1\n",
       "Ford Torino                   1\n",
       "Ford Grenada                  1\n",
       "Dodge Charger 2.2             1\n",
       "Chevrolet Vega 2300           1\n",
       "Mercury Capri 2000            1\n",
       "Volvo Diesel                  1\n",
       "Plymouth Satellite (sw)       1\n",
       "Oldsmobile Omega              1\n",
       "Mercury Monarch               1\n",
       "Ford Fairmont Futura          1\n",
       "Plymouth Horizon TC3          1\n",
       "Name: Car, Length: 308, dtype: int64"
      ]
     },
     "execution_count": 42,
     "metadata": {},
     "output_type": "execute_result"
    }
   ],
   "source": [
    "cars.drop([0] , axis=0,inplace=True) #Drop row with data type names\n",
    "#cars.drop(['Car'], axis=1,inplace=True)  # We can safely drop the 'Car' column\n",
    "cars.head()\n",
    "cars['Car'].value_counts() "
   ]
  },
  {
   "cell_type": "code",
   "execution_count": 20,
   "metadata": {},
   "outputs": [
    {
     "data": {
      "text/plain": [
       "US        254\n",
       "Japan      79\n",
       "Europe     73\n",
       "Name: Origin, dtype: int64"
      ]
     },
     "execution_count": 20,
     "metadata": {},
     "output_type": "execute_result"
    }
   ],
   "source": [
    "#There are 3 possible classes:\n",
    "cars['Origin'].value_counts() \n",
    "#Origin is our class type"
   ]
  },
  {
   "cell_type": "code",
   "execution_count": 21,
   "metadata": {
    "collapsed": true
   },
   "outputs": [],
   "source": [
    "#Build a dictionary with the feature names.\n",
    "feature_dict = {i:label for i,label in zip(range(4),\n",
    "                  ('MPG','Cylinders','Displacement','HorsePower', 'Weight' ,'Acceleration','Model'))}\n",
    "\n",
    "#Labels for"
   ]
  },
  {
   "cell_type": "code",
   "execution_count": 44,
   "metadata": {},
   "outputs": [
    {
     "data": {
      "text/plain": [
       "ford pinto                      6\n",
       "ford maverick                   5\n",
       "toyota corolla                  5\n",
       "amc matador                     5\n",
       "toyota corona                   4\n",
       "amc gremlin                     4\n",
       "chevrolet chevette              4\n",
       "chevrolet impala                4\n",
       "amc hornet                      4\n",
       "peugeot 504                     4\n",
       "plymouth fury iii               3\n",
       "chevrolet citation              3\n",
       "honda civic                     3\n",
       "volkswagen dasher               3\n",
       "plymouth duster                 3\n",
       "chevrolet caprice classic       3\n",
       "dodge colt                      3\n",
       "ford galaxie 500                3\n",
       "ford gran torino                3\n",
       "pontiac catalina                3\n",
       "chevrolet vega                  3\n",
       "chevrolet nova                  3\n",
       "fiat 128                        2\n",
       "chevrolet monte carlo landau    2\n",
       "subaru                          2\n",
       "chevrolet malibu                2\n",
       "chevrolet chevelle malibu       2\n",
       "honda accord                    2\n",
       "ford country squire (sw)        2\n",
       "plymouth valiant                2\n",
       "                               ..\n",
       "dodge magnum xe                 1\n",
       "pontiac safari (sw)             1\n",
       "honda civic (auto)              1\n",
       "audi 100 ls                     1\n",
       "ford ranger                     1\n",
       "oldsmobile omega brougham       1\n",
       "ford granada l                  1\n",
       "amc ambassador sst              1\n",
       "peugeot 304                     1\n",
       "chevrolet bel air               1\n",
       "ford fairmont                   1\n",
       "audi 4000                       1\n",
       "buick century 350               1\n",
       "buick skyhawk                   1\n",
       "datsun 200-sx                   1\n",
       "plymouth arrow gs               1\n",
       "mazda rx2 coupe                 1\n",
       "audi 5000                       1\n",
       "chevrolet vega 2300             1\n",
       "renault 12 (sw)                 1\n",
       "fiat x1.9                       1\n",
       "triumph tr7 coupe               1\n",
       "ford f108                       1\n",
       "volkswagen scirocco             1\n",
       "ford pinto (sw)                 1\n",
       "volvo 245                       1\n",
       "ford ltd landau                 1\n",
       "mazda rx-7 gs                   1\n",
       "ford futura                     1\n",
       "pontiac j2000 se hatchback      1\n",
       "Name: car name, Length: 305, dtype: int64"
      ]
     },
     "execution_count": 44,
     "metadata": {},
     "output_type": "execute_result"
    }
   ],
   "source": [
    "cars = pd.read_csv('auto-mpg.csv')\n",
    "cars.head()\n",
    "cars['car name'].value_counts() "
   ]
  },
  {
   "cell_type": "code",
   "execution_count": 40,
   "metadata": {},
   "outputs": [
    {
     "data": {
      "text/plain": [
       "(398, 9)"
      ]
     },
     "execution_count": 40,
     "metadata": {},
     "output_type": "execute_result"
    }
   ],
   "source": [
    "cars.head()\n",
    "\n",
    "val = cars.iloc[0,0]\n",
    "cars.shape"
   ]
  },
  {
   "cell_type": "code",
   "execution_count": 35,
   "metadata": {},
   "outputs": [
    {
     "data": {
      "text/plain": [
       "numpy.float64"
      ]
     },
     "execution_count": 35,
     "metadata": {},
     "output_type": "execute_result"
    }
   ],
   "source": [
    "type(val)"
   ]
  },
  {
   "cell_type": "code",
   "execution_count": 36,
   "metadata": {},
   "outputs": [
    {
     "data": {
      "text/plain": [
       "18.0"
      ]
     },
     "execution_count": 36,
     "metadata": {},
     "output_type": "execute_result"
    }
   ],
   "source": [
    "val"
   ]
  },
  {
   "cell_type": "code",
   "execution_count": 37,
   "metadata": {},
   "outputs": [
    {
     "data": {
      "text/plain": [
       "int"
      ]
     },
     "execution_count": 37,
     "metadata": {},
     "output_type": "execute_result"
    }
   ],
   "source": [
    "type(5)"
   ]
  },
  {
   "cell_type": "code",
   "execution_count": null,
   "metadata": {
    "collapsed": true
   },
   "outputs": [],
   "source": []
  }
 ],
 "metadata": {
  "kernelspec": {
   "display_name": "Python 3",
   "language": "python",
   "name": "python3"
  },
  "language_info": {
   "codemirror_mode": {
    "name": "ipython",
    "version": 3
   },
   "file_extension": ".py",
   "mimetype": "text/x-python",
   "name": "python",
   "nbconvert_exporter": "python",
   "pygments_lexer": "ipython3",
   "version": "3.6.1"
  }
 },
 "nbformat": 4,
 "nbformat_minor": 2
}
